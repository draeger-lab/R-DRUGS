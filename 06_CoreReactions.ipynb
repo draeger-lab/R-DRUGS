{
 "cells": [
  {
   "cell_type": "code",
   "execution_count": null,
   "metadata": {},
   "outputs": [],
   "source": [
    "import cobra\n",
    "import pandas as pd\n",
    "import numpy as np"
   ]
  },
  {
   "cell_type": "code",
   "execution_count": null,
   "metadata": {},
   "outputs": [],
   "source": [
    "new_model = cobra.io.read_sbml_model('Models/Recon2_Influenza_consistent.xml')"
   ]
  },
  {
   "cell_type": "code",
   "execution_count": null,
   "metadata": {},
   "outputs": [],
   "source": [
    "core_table=pd.read_csv('/csvs/Influenza_assembled.csv', sep=';')"
   ]
  },
  {
   "cell_type": "code",
   "execution_count": null,
   "metadata": {},
   "outputs": [],
   "source": [
    "print(len(core_table))\n",
    "core_table.head()"
   ]
  },
  {
   "cell_type": "code",
   "execution_count": null,
   "metadata": {},
   "outputs": [],
   "source": [
    "core_table = core_table.rename(columns={'Unnamed: 0': 'index'})\n",
    "core_table.set_index('index', inplace=True)\n",
    "core_table.head()"
   ]
  },
  {
   "cell_type": "code",
   "execution_count": null,
   "metadata": {},
   "outputs": [],
   "source": [
    "for column in core_table.columns:\n",
    "    core_table.loc['biomass_reaction'][column] = 1"
   ]
  },
  {
   "cell_type": "code",
   "execution_count": null,
   "metadata": {},
   "outputs": [],
   "source": [
    "vbof_df = pd.DataFrame(data = [[1]* len(core_table.columns)],index = ['VBOF'],columns = core_table.columns)"
   ]
  },
  {
   "cell_type": "code",
   "execution_count": null,
   "metadata": {},
   "outputs": [],
   "source": [
    "core_table = core_table.append([vbof_df])\n",
    "print(len(core_table))"
   ]
  },
  {
   "cell_type": "code",
   "execution_count": null,
   "metadata": {},
   "outputs": [],
   "source": [
    "#Create a dictionary that directly retreives the reaction number based on the reaction-ID\n",
    "useful_dict = {}\n",
    "for i in range(len(new_model.reactions)):\n",
    "    useful_dict[new_model.reactions[i].id] = i+1"
   ]
  },
  {
   "cell_type": "code",
   "execution_count": null,
   "metadata": {},
   "outputs": [],
   "source": [
    "#Counting single cells that don't have enough core reactions  \n",
    "not_enough = []\n",
    "solved = []"
   ]
  },
  {
   "cell_type": "code",
   "execution_count": null,
   "metadata": {},
   "outputs": [],
   "source": [
    "#Iterate over every reaction\n",
    "for col in core_table.columns:\n",
    "    if core_table[col].sum() > 30:\n",
    "        column = col\n",
    "        core_indices = []\n",
    "        for index in core_table.index:\n",
    "            try:\n",
    "                if core_table.loc[index][column] == 1:\n",
    "                    try:\n",
    "                        core_indices.append(useful_dict[index])\n",
    "                    except:\n",
    "                        continue\n",
    "            except:\n",
    "                print(column, index)\n",
    "        if len(core_indices) >= 30:\n",
    "            with open('CoreReactsInfluenza/'+column+'.csv', 'w', newline='') as f:\n",
    "                for item in core_indices:\n",
    "                    f.write(str(item)+'\\n')\n",
    "        else:\n",
    "            not_enough.append(column)\n",
    "    else:\n",
    "        not_enough.append(column)\n",
    "    solved.append(column)"
   ]
  }
 ],
 "metadata": {
  "kernelspec": {
   "display_name": "Python 3",
   "language": "python",
   "name": "python3"
  },
  "language_info": {
   "codemirror_mode": {
    "name": "ipython",
    "version": 3
   },
   "file_extension": ".py",
   "mimetype": "text/x-python",
   "name": "python",
   "nbconvert_exporter": "python",
   "pygments_lexer": "ipython3",
   "version": "3.7.4"
  }
 },
 "nbformat": 4,
 "nbformat_minor": 2
}
