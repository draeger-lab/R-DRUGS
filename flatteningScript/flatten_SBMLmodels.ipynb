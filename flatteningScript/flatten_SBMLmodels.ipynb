{
 "cells": [
  {
   "cell_type": "code",
   "execution_count": 11,
   "id": "d945378c",
   "metadata": {},
   "outputs": [],
   "source": [
    "from cobra import *\n",
    "from libsbml import *\n",
    "import sys, getopt, os.path\n",
    "from tqdm import tqdm\n",
    "import zipfile\n",
    "import tempfile"
   ]
  },
  {
   "cell_type": "code",
   "execution_count": 12,
   "id": "cb30d8b9",
   "metadata": {},
   "outputs": [
    {
     "name": "stdout",
     "output_type": "stream",
     "text": [
      "<TemporaryDirectory './tmp67vewp2a'>\n"
     ]
    }
   ],
   "source": [
    "# create temporary directory\n",
    "tempfile.tempdir = \"./\"\n",
    "temp_dir = tempfile.TemporaryDirectory()\n",
    "print(temp_dir)"
   ]
  },
  {
   "cell_type": "code",
   "execution_count": 6,
   "id": "f2948400",
   "metadata": {},
   "outputs": [],
   "source": [
    "omexFile = \"SARS-CoV-2_CoreModelsBALF1Epithelial.omex\"\n",
    "sbmlPath = omexFile.replace(\".omex\",\"\")\n",
    "flattenedPath = omexFile.replace(\".omex\",\"_flattened\")"
   ]
  },
  {
   "cell_type": "code",
   "execution_count": 7,
   "id": "71a5c34b",
   "metadata": {},
   "outputs": [],
   "source": [
    "# unzip OMEX file of interest in a temporary file\n",
    "with zipfile.ZipFile(omexFile, 'r') as zip_ref:\n",
    "    zip_ref.extractall(temp_dir.name+\"/\"+sbmlPath)"
   ]
  },
  {
   "cell_type": "code",
   "execution_count": 8,
   "id": "ade438f2",
   "metadata": {},
   "outputs": [],
   "source": [
    "# create directory to store results\n",
    "os.mkdir(flattenedPath)"
   ]
  },
  {
   "cell_type": "code",
   "execution_count": 9,
   "id": "b9e80417",
   "metadata": {},
   "outputs": [
    {
     "name": "stdout",
     "output_type": "stream",
     "text": [
      "C149_C149_ACATCAGGTCGGGTCT-1_16782925330367706634.sbml Flattening.... OK\n",
      "C148_C148_AGCTCCTCACGAAACG-1_1152717062397344256.sbml Flattening.... OK\n"
     ]
    }
   ],
   "source": [
    "# convert hierarchical models defined with the SBML Level 3 Hierarchical Model Composition package \n",
    "# into a \"flattened\" version\n",
    "\n",
    "for model in os.listdir(temp_dir.name+\"/\"+sbmlPath):\n",
    "    \n",
    "    sbmldoc = readSBML(temp_dir.name+\"/\"+sbmlPath+\"/\"+model)\n",
    "    \n",
    "    # define converter options\n",
    "    props = ConversionProperties()\n",
    "    props.addOption(\"flatten comp\", True)       \n",
    "\n",
    "    # create \"flattened\" version\n",
    "    result = sbmldoc.convert(props)\n",
    "    if result != LIBSBML_OPERATION_SUCCESS:\n",
    "        sbmldoc.printErrors()\n",
    "        raise SystemExit(\"Conversion failed... %tb\")\n",
    "        \n",
    "    writer  = SBMLWriter()\n",
    "    writer.writeSBML(sbmldoc, flattenedPath+\"/\"+model.replace(\".sbml\",\".xml\"))\n",
    "    \n",
    "    print(model, \"Flattening.... OK\")\n"
   ]
  },
  {
   "cell_type": "code",
   "execution_count": 10,
   "id": "5d671606",
   "metadata": {
    "scrolled": true
   },
   "outputs": [
    {
     "name": "stderr",
     "output_type": "stream",
     "text": [
      "'' is not a valid SBML 'SId'.\n"
     ]
    },
    {
     "name": "stdout",
     "output_type": "stream",
     "text": [
      "C148_C148_AGCTCCTCACGAAACG_1_1152717062397344256 ID correction.... OK\n"
     ]
    },
    {
     "name": "stderr",
     "output_type": "stream",
     "text": [
      "'' is not a valid SBML 'SId'.\n"
     ]
    },
    {
     "name": "stdout",
     "output_type": "stream",
     "text": [
      "C149_C149_ACATCAGGTCGGGTCT_1_16782925330367706634 ID correction.... OK\n"
     ]
    }
   ],
   "source": [
    "# correct error: '' is not a valid SBML 'SId'.\n",
    "for flatObj in os.listdir(flattenedPath):\n",
    "    \n",
    "    model = io.read_sbml_model(flattenedPath+\"/\"+flatObj)\n",
    "    \n",
    "    # Solve problem: '' is not a valid SBML 'SId'.\n",
    "    model.id = str(flatObj).replace(\".xml\",\"\").replace(\"-\",\"_\")\n",
    "    \n",
    "    print(model.id, \"ID correction.... OK\")\n",
    "    \n",
    "    # write corrected model (overwrite)\n",
    "    io.write_sbml_model(model,flattenedPath+\"/\"+flatObj)"
   ]
  },
  {
   "cell_type": "code",
   "execution_count": 13,
   "id": "48fb3966",
   "metadata": {},
   "outputs": [],
   "source": [
    "# delete temporary file\n",
    "temp_dir.cleanup()"
   ]
  },
  {
   "cell_type": "markdown",
   "id": "a2417919",
   "metadata": {},
   "source": [
    "### The final models can be used with any COBRApy or COBRAToolbox function."
   ]
  }
 ],
 "metadata": {
  "kernelspec": {
   "display_name": "Python 3",
   "language": "python",
   "name": "python3"
  },
  "language_info": {
   "codemirror_mode": {
    "name": "ipython",
    "version": 3
   },
   "file_extension": ".py",
   "mimetype": "text/x-python",
   "name": "python",
   "nbconvert_exporter": "python",
   "pygments_lexer": "ipython3",
   "version": "3.8.5"
  }
 },
 "nbformat": 4,
 "nbformat_minor": 5
}
