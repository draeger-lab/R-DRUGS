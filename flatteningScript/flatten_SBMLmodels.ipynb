{
 "cells": [
  {
   "cell_type": "code",
   "execution_count": null,
   "id": "d945378c",
   "metadata": {},
   "outputs": [],
   "source": [
    "from cobra import *\n",
    "from libsbml import *\n",
    "import sys, getopt, os.path\n",
    "from tqdm import tqdm\n",
    "import zipfile\n",
    "import tempfile"
   ]
  },
  {
   "cell_type": "code",
   "execution_count": null,
   "id": "f7ab20dd",
   "metadata": {},
   "outputs": [],
   "source": [
    "# create temporary directory\n",
    "temp_dir = tempfile.TemporaryDirectory()\n",
    "tmp_path = temp_dir.name\n",
    "print(tmp_path)"
   ]
  },
  {
   "cell_type": "code",
   "execution_count": null,
   "id": "f2948400",
   "metadata": {},
   "outputs": [],
   "source": [
    "omexFile = \"SARS-CoV-2_CoreModelsBALF1Epithelial.omex\"\n",
    "sbmlPath = omexFile.replace(\".omex\",\"\")\n",
    "flattenedPath = omexFile.replace(\".omex\",\"_flattened\")"
   ]
  },
  {
   "cell_type": "code",
   "execution_count": null,
   "id": "71a5c34b",
   "metadata": {},
   "outputs": [],
   "source": [
    "# unzip OMEX file of interest in a temporary file\n",
    "with zipfile.ZipFile(omexFile, 'r') as zip_ref:\n",
    "    zip_ref.extractall(tmp_path+\"/\"+sbmlPath)"
   ]
  },
  {
   "cell_type": "code",
   "execution_count": null,
   "id": "ade438f2",
   "metadata": {},
   "outputs": [],
   "source": [
    "# create directory to store results\n",
    "os.mkdir(tmp_path+\"/\"+flattenedPath)"
   ]
  },
  {
   "cell_type": "code",
   "execution_count": null,
   "id": "b9e80417",
   "metadata": {},
   "outputs": [],
   "source": [
    "# convert hierarchical models defined with the SBML Level 3 Hierarchical Model Composition package \n",
    "# into a \"flattened\" version\n",
    "\n",
    "for model in os.listdir(tmp_path+\"/\"+sbmlPath):\n",
    "    \n",
    "    sbmldoc = readSBML(tmp_path+\"/\"+sbmlPath+\"/\"+model)\n",
    "    \n",
    "    # define converter options\n",
    "    props = ConversionProperties()\n",
    "    props.addOption(\"flatten comp\", True)       \n",
    "\n",
    "    # create \"flattened\" version\n",
    "    result = sbmldoc.convert(props)\n",
    "    if result != LIBSBML_OPERATION_SUCCESS:\n",
    "        sbmldoc.printErrors()\n",
    "        raise SystemExit(\"Conversion failed... %tb\")\n",
    "        \n",
    "    writer  = SBMLWriter()\n",
    "    writer.writeSBML(sbmldoc, tmp_path+\"/\"+flattenedPath+\"/\"+model.replace(\".sbml\",\".xml\"))\n",
    "    \n",
    "    print(model, \"Flattening....OK\")\n"
   ]
  },
  {
   "cell_type": "code",
   "execution_count": null,
   "id": "5d671606",
   "metadata": {
    "scrolled": true
   },
   "outputs": [],
   "source": [
    "# correct error: '' is not a valid SBML 'SId'.\n",
    "for flatObj in os.listdir(tmp_path+\"/\"+flattenedPath):\n",
    "    \n",
    "    model = io.read_sbml_model(tmp_path+\"/\"+flattenedPath+\"/\"+flatObj)\n",
    "    \n",
    "    # Solve problem: '' is not a valid SBML 'SId'.\n",
    "    model.id = str(flatObj).replace(\".xml\",\"\").replace(\"-\",\"_\")\n",
    "    \n",
    "    print(model.id, \"ID correction....OK\")\n",
    "    \n",
    "    # write corrected model (overwrite)\n",
    "    io.write_sbml_model(model,tmp_path+\"/\"+flattenedPath+\"/\"+flatObj)"
   ]
  },
  {
   "cell_type": "markdown",
   "id": "4424107f",
   "metadata": {},
   "source": [
    "Final models are stored in: **tmp_path/flattenedPath/**"
   ]
  },
  {
   "cell_type": "markdown",
   "id": "a3e59c96",
   "metadata": {},
   "source": [
    "### The final models can be used with any COBRApy or COBRAToolbox function."
   ]
  },
  {
   "cell_type": "code",
   "execution_count": null,
   "id": "ba738771",
   "metadata": {},
   "outputs": [],
   "source": [
    "# delete temporary directory if no longer needed\n",
    "temp_dir.cleanup()"
   ]
  }
 ],
 "metadata": {
  "kernelspec": {
   "display_name": "Python 3",
   "language": "python",
   "name": "python3"
  },
  "language_info": {
   "codemirror_mode": {
    "name": "ipython",
    "version": 3
   },
   "file_extension": ".py",
   "mimetype": "text/x-python",
   "name": "python",
   "nbconvert_exporter": "python",
   "pygments_lexer": "ipython3",
   "version": "3.8.5"
  }
 },
 "nbformat": 4,
 "nbformat_minor": 5
}
