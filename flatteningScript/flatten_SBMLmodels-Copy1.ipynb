{
 "cells": [
  {
   "cell_type": "code",
   "execution_count": null,
   "id": "d945378c",
   "metadata": {},
   "outputs": [],
   "source": [
    "from cobra import *\n",
    "from libsbml import *\n",
    "import sys, getopt, os.path\n",
    "from tqdm import tqdm\n",
    "import zipfile"
   ]
  },
  {
   "cell_type": "code",
   "execution_count": null,
   "id": "7271c3ad",
   "metadata": {},
   "outputs": [],
   "source": [
    "# exemplary file\n",
    "omexFile = \"SARS-CoV-2_CoreModelsBALF1Epithelial.omex\"\n",
    "sbmlPath = omexFile.replace(\".omex\",\"\")\n",
    "flattenedPath = omexFile.replace(\".omex\",\"_flattened\")"
   ]
  },
  {
   "cell_type": "code",
   "execution_count": null,
   "id": "948da9f9",
   "metadata": {},
   "outputs": [],
   "source": [
    "# unzip OMEX file of interest\n",
    "with zipfile.ZipFile(omexFile, 'r') as zip_ref:\n",
    "    zip_ref.extractall(sbmlPath)"
   ]
  },
  {
   "cell_type": "code",
   "execution_count": null,
   "id": "14fdcdbf",
   "metadata": {},
   "outputs": [],
   "source": [
    "# create directory to store results\n",
    "os.mkdir(flattenedPath)"
   ]
  },
  {
   "cell_type": "code",
   "execution_count": null,
   "id": "681f062b",
   "metadata": {},
   "outputs": [],
   "source": [
    "# convert hierarchical models defined with the Hierarchical Model Composition package into a \"flattened\" version\n",
    "\n",
    "for model in os.listdir(sbmlPath):\n",
    "    \n",
    "    sbmldoc = readSBML(sbmlPath+\"/\"+model)\n",
    "    \n",
    "    # define converter options\n",
    "    props = ConversionProperties()\n",
    "    props.addOption(\"flatten comp\", True)       \n",
    "\n",
    "    # create \"flattened\" version\n",
    "    result = sbmldoc.convert(props)\n",
    "    if result != LIBSBML_OPERATION_SUCCESS:\n",
    "        sbmldoc.printErrors()\n",
    "        raise SystemExit(\"Conversion failed... %tb\")\n",
    "        \n",
    "    writer  = SBMLWriter()\n",
    "    writer.writeSBML(sbmldoc, flattenedPath+\"/\"+model.replace(\".sbml\",\".xml\"))\n",
    "    \n",
    "    print(model, \"Flattening.... OK\")\n"
   ]
  },
  {
   "cell_type": "code",
   "execution_count": null,
   "id": "36aae556",
   "metadata": {},
   "outputs": [],
   "source": [
    "# read with cobrapy\n",
    "for flatObj in tqdm(os.listdir(flattenedPath)):\n",
    "    \n",
    "    model = io.read_sbml_model(flattenedPath+\"/\"+flatObj)\n",
    "    \n",
    "    # Solve error: '' is not a valid SBML 'SId'.\n",
    "    model.id = str(flatObj).replace(\".xml\",\"\").replace(\"-\",\"_\")\n",
    "    \n",
    "    print(model.id, \"ID correction.... OK\")\n",
    "    \n",
    "    io.write_sbml_model(model,flattenedPath+\"/\"+flatObj)"
   ]
  }
 ],
 "metadata": {
  "kernelspec": {
   "display_name": "Python 3",
   "language": "python",
   "name": "python3"
  },
  "language_info": {
   "codemirror_mode": {
    "name": "ipython",
    "version": 3
   },
   "file_extension": ".py",
   "mimetype": "text/x-python",
   "name": "python",
   "nbconvert_exporter": "python",
   "pygments_lexer": "ipython3",
   "version": "3.8.5"
  }
 },
 "nbformat": 4,
 "nbformat_minor": 5
}
