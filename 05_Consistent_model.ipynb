{
 "cells": [
  {
   "cell_type": "code",
   "execution_count": null,
   "metadata": {},
   "outputs": [],
   "source": [
    "import cobra\n",
    "import pandas as pd\n",
    "import numpy as np\n",
    "import matplotlib.pyplot as plt\n",
    "import matplotlib"
   ]
  },
  {
   "cell_type": "code",
   "execution_count": null,
   "metadata": {},
   "outputs": [],
   "source": [
    "model = cobra.io.read_sbml_model('Models/recon2_Influenza.xml')\n",
    "print(model.optimize().objective_value)\n",
    "model.id = 'Recon2'"
   ]
  },
  {
   "cell_type": "code",
   "execution_count": null,
   "metadata": {},
   "outputs": [],
   "source": [
    "con_reacts = pd.read_csv('csvs/consistent_Influenza.csv', header=None)\n",
    "con_reacts.head()\n",
    "list_of_reacts = list(con_reacts[0])\n",
    "list_of_reacts = [x - 1 for x in list_of_reacts]\n",
    "print(len(list_of_reacts))"
   ]
  },
  {
   "cell_type": "code",
   "execution_count": null,
   "metadata": {},
   "outputs": [],
   "source": [
    "new_model = Model('Consistent_Recon2')\n",
    "new_model.id = 'consistRecon2'"
   ]
  },
  {
   "cell_type": "code",
   "execution_count": null,
   "metadata": {},
   "outputs": [],
   "source": [
    "for i in list_of_reacts:\n",
    "    new_model.add_reactions([model.reactions[i]])\n",
    "    \n",
    "print(len(new_model.reactions))"
   ]
  },
  {
   "cell_type": "code",
   "execution_count": null,
   "metadata": {},
   "outputs": [],
   "source": [
    "new_model.objective = 'biomass_reaction'\n",
    "print(new_model.optimize().objective_value)\n",
    "\n",
    "with new_model:\n",
    "    new_model.objective = 'VBOF'\n",
    "    print(new_model.optimize().objective_value)"
   ]
  },
  {
   "cell_type": "code",
   "execution_count": null,
   "metadata": {},
   "outputs": [],
   "source": [
    "cobra.io.write_sbml_model(new_model, \"Models/Recon2_Influenza_consistent.xml\")\n",
    "cobra.io.save_matlab_model(new_model, \"Models/recon2_Influenza_consistent.mat\")"
   ]
  },
  {
   "cell_type": "code",
   "execution_count": null,
   "metadata": {},
   "outputs": [],
   "source": [
    "cobra.io.validate_sbml_model('Models/Recon2_Influenza_consistent.xml')"
   ]
  }
 ],
 "metadata": {
  "kernelspec": {
   "display_name": "Python 3",
   "language": "python",
   "name": "python3"
  },
  "language_info": {
   "codemirror_mode": {
    "name": "ipython",
    "version": 3
   },
   "file_extension": ".py",
   "mimetype": "text/x-python",
   "name": "python",
   "nbconvert_exporter": "python",
   "pygments_lexer": "ipython3",
   "version": "3.7.4"
  }
 },
 "nbformat": 4,
 "nbformat_minor": 2
}
