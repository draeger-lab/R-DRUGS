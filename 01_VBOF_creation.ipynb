{
 "cells": [
  {
   "cell_type": "code",
   "execution_count": 12,
   "metadata": {},
   "outputs": [],
   "source": [
    "import cobra\n",
    "import pandas as pd\n",
    "import numpy as np\n",
    "import matplotlib.pyplot as plt\n",
    "import matplotlib"
   ]
  },
  {
   "cell_type": "markdown",
   "metadata": {},
   "source": [
    "# Virus BOF"
   ]
  },
  {
   "cell_type": "code",
   "execution_count": 13,
   "metadata": {},
   "outputs": [],
   "source": [
    "from Bio import SeqIO"
   ]
  },
  {
   "cell_type": "markdown",
   "metadata": {},
   "source": [
    "## (1) Nucleotides"
   ]
  },
  {
   "cell_type": "code",
   "execution_count": 14,
   "metadata": {},
   "outputs": [
    {
     "name": "stdout",
     "output_type": "stream",
     "text": [
      "\n",
      "Gi:  1158003.64\n"
     ]
    }
   ],
   "source": [
    "###Nucleotides\n",
    "records = list(SeqIO.parse('Sequences/GCF_001343785.1_ViralMultiSegProj274766_genomic.fna', \"fasta\"))\n",
    "sequence = records[0].seq\n",
    "\n",
    "\n",
    "Cg = 1 #genome copy number\n",
    "Cag = 1 #Antisense\n",
    "\n",
    "#4.1\n",
    "A = sequence.count('A')\n",
    "U = sequence.count('T')\n",
    "G = sequence.count('G')\n",
    "C = sequence.count('C')\n",
    "\n",
    "\n",
    "AUtot = 2*Cg*(A + U)\n",
    "GCtot = 2*Cg*(G + C)\n",
    "\n",
    "#4.2\n",
    "GA = AUtot*135.13\n",
    "GU = AUtot*112.09\n",
    "GG = GCtot*151.13\n",
    "GC = GCtot*111.1\n",
    "\n",
    "#4.3\n",
    "Gi = GA+GU+GG+GC\n",
    "print('\\nGi: ',Gi)\n"
   ]
  },
  {
   "cell_type": "markdown",
   "metadata": {},
   "source": [
    "## (2) Amino Acids\n",
    "- Structural Proteins: \n",
    "    - YP_009118622.1 matrix protein 2\n",
    "    - YP_009118623.1 matrix protein 1\n",
    "    - YP_009118626.1 hemagglutinin\n",
    "    - YP_009118627.1 neuraminidase"
   ]
  },
  {
   "cell_type": "code",
   "execution_count": 15,
   "metadata": {},
   "outputs": [
    {
     "name": "stdout",
     "output_type": "stream",
     "text": [
      "Gj:  219849705.2\n"
     ]
    }
   ],
   "source": [
    "records = list(SeqIO.parse('Sequences/GCF_001343785.1_ViralMultiSegProj274766_protein.faa', \"fasta\"))\n",
    "\n",
    "\n",
    "amino_acids = ['A', 'R', 'N', 'D', 'C', 'E', 'Q', 'G', 'H', 'I', 'L', 'K', 'M', \n",
    "               'F', 'P', 'S', 'T', 'W', 'Y', 'V']\n",
    "\n",
    "molecular_weight = [89.1, 174.2, 132.1, 133.1, 121.2, 147.1, 146.2, 75.1, 155.2, 131.2, 131.2, \n",
    "                    146.2, 149.2, 165.2, 115.1, 105.1, 119.1, 204.2, 181.2, 117.1]\n",
    "\n",
    "\n",
    "count_dict = {}\n",
    "\n",
    "#4.4\n",
    "for letter in amino_acids:\n",
    "    num_HA = 0\n",
    "    num_NA = 0\n",
    "    num_M1 = 0\n",
    "    num_M2 = 0\n",
    "    num_PB1 = 0\n",
    "    num_PB2 = 0\n",
    "    num_PA = 0\n",
    "    num_NP = 0\n",
    "    num_NS1 = 0\n",
    "    num_NEP = 0\n",
    "    num_PAX = 0\n",
    "    \n",
    "    for i in range(len(records)):\n",
    "        if records[i].id == 'YP_009118626.1': #HA\n",
    "            num_HA += records[i].seq.count(letter)\n",
    "        elif records[i].id == 'YP_009118627.1': #NA\n",
    "            num_NA += records[i].seq.count(letter)\n",
    "        elif records[i].id == 'YP_009118623.1': #M1\n",
    "            num_M1 += records[i].seq.count(letter)\n",
    "        elif records[i].id  == 'YP_009118622.1': #M2\n",
    "            num_M2 += records[i].seq.count(letter)\n",
    "        elif records[i].id  == 'YP_009118628.1': #PB1\n",
    "            num_PB1 += records[i].seq.count(letter)\n",
    "        elif records[i].id  == 'YP_009118631.1': #PB2\n",
    "            num_PB2 += records[i].seq.count(letter)\n",
    "        elif records[i].id  == 'YP_009118630.1': #PA\n",
    "            num_PA += records[i].seq.count(letter)\n",
    "        elif records[i].id  == 'YP_009118629.1': #NP\n",
    "            num_NP += records[i].seq.count(letter)\n",
    "        elif records[i].id  == 'YP_009118625.1': #NS1\n",
    "            num_NS1 += records[i].seq.count(letter)\n",
    "        elif records[i].id  == 'YP_009118624.1': #NEP\n",
    "            num_NEP += records[i].seq.count(letter)\n",
    "        elif records[i].id  == 'YP_009121769.1': #PAX\n",
    "            num_PAX += records[i].seq.count(letter)\n",
    "        else: \n",
    "            print(records[i].id)\n",
    "    count_dict[letter] = [num_HA, num_NA, num_M1, num_M2, \n",
    "                          num_PB1, num_PB2, num_PA, \n",
    "                          num_NP, num_NS1, num_NEP, num_PAX]\n",
    "\n",
    "    \n",
    "#4.5\n",
    "Cha = 500\n",
    "Cna = 100\n",
    "Cm1 = 3000\n",
    "Cm2 = 41\n",
    "Cpb1 = 45\n",
    "Cnp = 1000\n",
    "Cns = 1\n",
    "\n",
    "for letter in amino_acids:\n",
    "    Xtot = (Cha*count_dict[letter][0] + Cna*count_dict[letter][1] + Cm1*count_dict[letter][2] + \n",
    "    Cm2*count_dict[letter][3] +  Cpb1*count_dict[letter][4] + Cpb1*count_dict[letter][5] + \n",
    "    Cpb1*count_dict[letter][6] + Cnp*count_dict[letter][7] + Cns*count_dict[letter][8] + Cns*count_dict[letter][9]\n",
    "    + Cpb1*count_dict[letter][10])\n",
    "    \n",
    "    count_dict[letter].append(Xtot) #list entry 2 = XjTOT\n",
    "\n",
    "    \n",
    "#4.6\n",
    "for letter, weight in zip(amino_acids, molecular_weight):\n",
    "    count_dict[letter].append(count_dict[letter][11]*weight) #list entry 3 = Gj\n",
    "    \n",
    "Gj = 0\n",
    "for letter in amino_acids:\n",
    "    Gj += count_dict[letter][12]\n",
    "\n",
    "print('Gj: ', Gj)\n",
    "#print(count_dict)"
   ]
  },
  {
   "cell_type": "markdown",
   "metadata": {},
   "source": [
    "## Total viral mass"
   ]
  },
  {
   "cell_type": "code",
   "execution_count": 16,
   "metadata": {},
   "outputs": [],
   "source": [
    "#4.15\n",
    "Mv = Gi+Gj\n",
    "\n",
    "SA = 1000*(AUtot/Mv)\n",
    "\n",
    "SG = 1000*(GCtot/Mv) \n",
    "\n",
    "\n",
    "\n",
    "\n",
    "for letter in amino_acids:\n",
    "    count_dict[letter].append(1000*(count_dict[letter][11]/Mv)) #entry 4 = SjX\n"
   ]
  },
  {
   "cell_type": "markdown",
   "metadata": {},
   "source": [
    "## ATP requirement"
   ]
  },
  {
   "cell_type": "code",
   "execution_count": 18,
   "metadata": {},
   "outputs": [
    {
     "name": "stdout",
     "output_type": "stream",
     "text": [
      "SATP:  30.626696396822393\n"
     ]
    }
   ],
   "source": [
    "#adaption\n",
    "kATP = 4\n",
    "\n",
    "A_HA = 0\n",
    "A_NA = 0\n",
    "A_M1 = 0\n",
    "A_M2 = 0\n",
    "A_PB1 = 0\n",
    "A_PB2 = 0\n",
    "A_PA = 0\n",
    "A_NP = 0\n",
    "A_NS1 = 0\n",
    "A_NEP = 0\n",
    "A_PAX = 0\n",
    "\n",
    "for letter in amino_acids:\n",
    "    A_HA += count_dict[letter][0]*kATP\n",
    "    A_NA += count_dict[letter][1]*kATP\n",
    "    A_M1 += count_dict[letter][2]*kATP\n",
    "    A_M2 += count_dict[letter][3]*kATP\n",
    "    A_PB1 += count_dict[letter][4]*kATP\n",
    "    A_PB2 += count_dict[letter][5]*kATP\n",
    "    A_PA += count_dict[letter][6]*kATP\n",
    "    A_NP += count_dict[letter][7]*kATP\n",
    "    A_NS1 += count_dict[letter][8]*kATP\n",
    "    A_NEP += count_dict[letter][9]*kATP\n",
    "    A_PAX += count_dict[letter][10]*kATP\n",
    "    \n",
    "\n",
    "A_HA = A_HA - kATP\n",
    "A_NA = A_NA - kATP\n",
    "A_M1 = A_M1 - kATP\n",
    "A_M2 = A_M2 - kATP\n",
    "A_PB1 = A_PB1 - kATP\n",
    "A_PB2 = A_PB2 - kATP\n",
    "A_PA = A_PA - kATP\n",
    "A_NP = A_NP - kATP\n",
    "A_NS1 = A_NS1 - kATP\n",
    "A_NEP = A_NEP - kATP\n",
    "A_PAX = A_PAX - kATP\n",
    "\n",
    "\n",
    "ATOT = (Cha*A_HA + Cna*A_NA + Cm1*A_M1 +  Cm2*A_M2 +  \n",
    "        Cpb1*A_PB1 + Cpb1*A_PB2 + Cpb1*A_PA + \n",
    "        Cnp*A_NP + Cns*A_NS1 + Cns*A_NEP + Cpb1*A_PAX)\n",
    "\n",
    "SATP = 1000*(ATOT/Mv)\n",
    "print('SATP: ', SATP)\n"
   ]
  },
  {
   "cell_type": "markdown",
   "metadata": {},
   "source": [
    "## Pyrophosphate (ppi) liberation"
   ]
  },
  {
   "cell_type": "code",
   "execution_count": 23,
   "metadata": {},
   "outputs": [
    {
     "name": "stdout",
     "output_type": "stream",
     "text": [
      "SPPi:  0.020623715000365868\n"
     ]
    }
   ],
   "source": [
    "kppi = 1\n",
    "\n",
    "\n",
    "PG = (A*kppi + U*kppi + G*kppi + C*kppi) - kppi\n",
    "PR = (A*kppi + U*kppi + G*kppi + C*kppi) - kppi\n",
    "\n",
    "PTOT = Cg*(PG+PR) \n",
    "\n",
    "SPPi = 1000*(PTOT/Mv)\n",
    "print('SPPi: ', SPPi)"
   ]
  },
  {
   "cell_type": "markdown",
   "metadata": {},
   "source": [
    "## Final construction of the VBOF"
   ]
  },
  {
   "cell_type": "code",
   "execution_count": 20,
   "metadata": {},
   "outputs": [],
   "source": [
    "import cobra\n",
    "from cobra import Model, Reaction, Metabolite"
   ]
  },
  {
   "cell_type": "code",
   "execution_count": 28,
   "metadata": {},
   "outputs": [
    {
     "name": "stderr",
     "output_type": "stream",
     "text": [
      "'' is not a valid SBML 'SId'.\n"
     ]
    },
    {
     "name": "stdout",
     "output_type": "stream",
     "text": [
      "0.2925755033557048\n"
     ]
    }
   ],
   "source": [
    "model = cobra.io.read_sbml_model('Models/Recon22_updated.xml')\n",
    "print(model.optimize().objective_value)\n",
    "model.id = 'Recon2'"
   ]
  },
  {
   "cell_type": "code",
   "execution_count": 29,
   "metadata": {},
   "outputs": [],
   "source": [
    "reaction = Reaction('VBOF')\n",
    "reaction.name = 'Viral biomass objective function of Influenza virus WT'\n",
    "reaction.lower_bound = 0\n",
    "reaction.upper_bound = 1000\n",
    "\n",
    "reaction.add_metabolites({\n",
    "    #energy requirements\n",
    "    model.metabolites.get_by_id('adp_c'): SATP,\n",
    "    model.metabolites.get_by_id('h_c'): SATP,\n",
    "    model.metabolites.get_by_id('h2o_c'): -SATP,\n",
    "    model.metabolites.get_by_id('pi_c'): SATP,\n",
    "    model.metabolites.get_by_id('ppi_c'): SPPi, \n",
    "    \n",
    "    #nucleotides: \n",
    "    model.metabolites.get_by_id('atp_c'): -(SATP + SA),\n",
    "    model.metabolites.get_by_id('ctp_c'): - SG, \n",
    "    model.metabolites.get_by_id('gtp_c'): - SG,\n",
    "    model.metabolites.get_by_id('utp_c'): -SA,\n",
    "    \n",
    "    #amino acids\n",
    "    model.metabolites.get_by_id('ala_L_c'): -count_dict['A'][13],\n",
    "    model.metabolites.get_by_id('arg_L_c'): -count_dict['R'][13], \n",
    "    model.metabolites.get_by_id('asn_L_c'): -count_dict['N'][13],\n",
    "    model.metabolites.get_by_id('asp_L_c'): -count_dict['D'][13],\n",
    "    model.metabolites.get_by_id('cys_L_c'): -count_dict['C'][13],\n",
    "    model.metabolites.get_by_id('glu_L_c'): -count_dict['E'][13],\n",
    "    model.metabolites.get_by_id('gln_L_c'): -count_dict['Q'][13],\n",
    "    model.metabolites.get_by_id('gly_c'): -count_dict['G'][13],\n",
    "    model.metabolites.get_by_id('his_L_c'): -count_dict['H'][13],\n",
    "    model.metabolites.get_by_id('ile_L_c'): -count_dict['I'][13],\n",
    "    model.metabolites.get_by_id('leu_L_c'): -count_dict['L'][13],\n",
    "    model.metabolites.get_by_id('lys_L_c'): -count_dict['K'][13],\n",
    "    model.metabolites.get_by_id('met_L_c'): -count_dict['M'][13],\n",
    "    model.metabolites.get_by_id('phe_L_c'): -count_dict['F'][13],\n",
    "    model.metabolites.get_by_id('pro_L_c'): -count_dict['P'][13],\n",
    "    model.metabolites.get_by_id('ser_L_c'): -count_dict['S'][13],\n",
    "    model.metabolites.get_by_id('thr_L_c'): -count_dict['T'][13],\n",
    "    model.metabolites.get_by_id('trp_L_c'): -count_dict['W'][13],\n",
    "    model.metabolites.get_by_id('tyr_L_c'): -count_dict['Y'][13],\n",
    "    model.metabolites.get_by_id('val_L_c'): -count_dict['V'][13], \n",
    "})\n",
    "\n",
    "model.add_reactions([reaction])"
   ]
  },
  {
   "cell_type": "code",
   "execution_count": 30,
   "metadata": {},
   "outputs": [
    {
     "data": {
      "text/html": [
       "\n",
       "        <table>\n",
       "            <tr>\n",
       "                <td><strong>Reaction identifier</strong></td><td>VBOF</td>\n",
       "            </tr><tr>\n",
       "                <td><strong>Name</strong></td><td>Viral biomass objective function of Measles virus WT</td>\n",
       "            </tr><tr>\n",
       "                <td><strong>Memory address</strong></td>\n",
       "                <td>0x0102e0cc890</td>\n",
       "            </tr><tr>\n",
       "                <td><strong>Stoichiometry</strong></td>\n",
       "                <td>\n",
       "                    <p style='text-align:right'>0.63321773133857 ala_L_c + 0.5412435639817387 arg_L_c + 0.4040492545201122 asn_L_c + 0.2758863042381106 asp_L_c + 30.63808061510693 atp_c + 0.009248546173924493 ctp_c + 0.11830356568660949 cys_L_c ...</p>\n",
       "                    <p style='text-align:right'>0.63321773133857 L-alanine + 0.5412435639817387 L-argininium(1+) + 0.4040492545201122 L-asparagine + 0.2758863042381106 L-aspartate(1-) + 30.63808061510693 ATP(4-) + 0.009248546173924493 CTP + 0.11...</p>\n",
       "                </td>\n",
       "            </tr><tr>\n",
       "                <td><strong>GPR</strong></td><td></td>\n",
       "            </tr><tr>\n",
       "                <td><strong>Lower bound</strong></td><td>0</td>\n",
       "            </tr><tr>\n",
       "                <td><strong>Upper bound</strong></td><td>1000</td>\n",
       "            </tr>\n",
       "        </table>\n",
       "        "
      ],
      "text/plain": [
       "<Reaction VBOF at 0x102e0cc890>"
      ]
     },
     "execution_count": 30,
     "metadata": {},
     "output_type": "execute_result"
    }
   ],
   "source": [
    "model.reactions.VBOF"
   ]
  },
  {
   "cell_type": "code",
   "execution_count": 32,
   "metadata": {},
   "outputs": [
    {
     "name": "stdout",
     "output_type": "stream",
     "text": [
      "0.2083733622067924\n"
     ]
    }
   ],
   "source": [
    "with model: \n",
    "    model.objective = 'VBOF'\n",
    "    print(model.optimize().objective_value)"
   ]
  },
  {
   "cell_type": "code",
   "execution_count": 33,
   "metadata": {},
   "outputs": [],
   "source": [
    "cobra.io.save_matlab_model(model, \"Models/recon2_Influenza.mat\")\n",
    "cobra.io.write_sbml_model(model, \"Models/recon2_Influenza.xml\")"
   ]
  }
 ],
 "metadata": {
  "kernel_info": {
   "name": "python3"
  },
  "kernelspec": {
   "display_name": "Python 3",
   "language": "python",
   "name": "python3"
  },
  "language_info": {
   "codemirror_mode": {
    "name": "ipython",
    "version": 3
   },
   "file_extension": ".py",
   "mimetype": "text/x-python",
   "name": "python",
   "nbconvert_exporter": "python",
   "pygments_lexer": "ipython3",
   "version": "3.7.4"
  }
 },
 "nbformat": 4,
 "nbformat_minor": 2
}
